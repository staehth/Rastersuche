{
 "cells": [
  {
   "cell_type": "code",
   "execution_count": 18,
   "id": "d7a213e9",
   "metadata": {},
   "outputs": [],
   "source": [
    "from datetime import datetime, timedelta,timezone\n",
    "from tinyflux import TinyFlux, Point\n",
    "db = TinyFlux('staehth.csv')"
   ]
  },
  {
   "cell_type": "code",
   "execution_count": 19,
   "id": "e4febcb2",
   "metadata": {},
   "outputs": [],
   "source": [
    "p1 = Point(\n",
    "    time=datetime.fromisoformat(\"2025-09-12T11:12:13+02:00\"),\n",
    "    tags={\"city\": \"Winterthur\"},\n",
    "    fields={\"room\": 122}\n",
    "\n",
    ")\n",
    "\n"
   ]
  },
  {
   "cell_type": "code",
   "execution_count": 17,
   "id": "5f04fd3a",
   "metadata": {},
   "outputs": [
    {
     "data": {
      "text/plain": [
       "[Point(time=2025-09-12T09:12:13+00:00, measurement=_default, tags=city:Winterthur, fields=room:122.0)]"
      ]
     },
     "execution_count": 17,
     "metadata": {},
     "output_type": "execute_result"
    }
   ],
   "source": [
    "db.insert(p1)\n",
    "\n",
    "db.all()"
   ]
  },
  {
   "cell_type": "markdown",
   "id": "1d5fffe6",
   "metadata": {},
   "source": []
  }
 ],
 "metadata": {
  "kernelspec": {
   "display_name": "Python 3",
   "language": "python",
   "name": "python3"
  },
  "language_info": {
   "codemirror_mode": {
    "name": "ipython",
    "version": 3
   },
   "file_extension": ".py",
   "mimetype": "text/x-python",
   "name": "python",
   "nbconvert_exporter": "python",
   "pygments_lexer": "ipython3",
   "version": "3.13.2"
  }
 },
 "nbformat": 4,
 "nbformat_minor": 5
}
